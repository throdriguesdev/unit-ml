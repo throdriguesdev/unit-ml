{
 "cells": [
  {
   "cell_type": "code",
   "execution_count": 4,
   "id": "44b30e85-e14b-46c3-92cc-f7a5dab1dfcc",
   "metadata": {
    "ExecuteTime": {
     "end_time": "2024-05-30T15:18:33.556206Z",
     "start_time": "2024-05-30T15:18:33.543343Z"
    }
   },
   "outputs": [],
   "source": [
    "#1 DECLARACAO DE CAMINHOS LIBS E VARS\n",
    "import pandas as pd\n",
    "dataset = pd.read_csv('base.csv')"
   ]
  },
  {
   "cell_type": "code",
   "execution_count": 5,
   "id": "d4a7f417-47c8-4233-9ff9-e3f685c4df18",
   "metadata": {
    "ExecuteTime": {
     "end_time": "2024-05-30T15:22:15.628907Z",
     "start_time": "2024-05-30T15:22:15.614049Z"
    }
   },
   "outputs": [
    {
     "name": "stdout",
     "output_type": "stream",
     "text": [
      "Tipos de Dados:\n",
      "date                           object\n",
      "title                          object\n",
      "location                       object\n",
      "salary                         object\n",
      "company_industry               object\n",
      "education                      object\n",
      "prior_experience               object\n",
      "bonus                          object\n",
      "stocks                         object\n",
      "total_comp                     object\n",
      "additional_benefits              bool\n",
      "tenure_length_period          float64\n",
      "tenure_length_period_units     object\n",
      "survey_year                     int64\n",
      "\n",
      "\n",
      "Estatísticas Descritivas:\n",
      "       tenure_length_period  survey_year\n",
      "count            459.000000   555.000000\n",
      "mean               3.135185  2021.108108\n",
      "std                2.456234     1.359227\n",
      "min                0.000000  2019.000000\n",
      "25%                1.000000  2020.000000\n",
      "50%                2.000000  2021.000000\n",
      "75%                4.000000  2022.000000\n",
      "max               15.000000  2023.000000\n",
      "\n",
      "\n",
      "Valores Nulos:\n",
      "date                            0\n",
      "title                          22\n",
      "location                      123\n",
      "salary                         91\n",
      "company_industry               92\n",
      "education                      79\n",
      "prior_experience              218\n",
      "bonus                         306\n",
      "stocks                        171\n",
      "total_comp                     61\n",
      "additional_benefits             0\n",
      "tenure_length_period           96\n",
      "tenure_length_period_units      0\n",
      "survey_year                     0\n",
      "\n",
      "\n",
      "Valores Únicos:\n",
      "date                            5\n",
      "title                         245\n",
      "location                      130\n",
      "salary                        296\n",
      "company_industry              329\n",
      "education                     394\n",
      "prior_experience              328\n",
      "bonus                         161\n",
      "stocks                        341\n",
      "total_comp                    418\n",
      "additional_benefits             2\n",
      "tenure_length_period           27\n",
      "tenure_length_period_units      3\n",
      "survey_year                     5\n"
     ]
    }
   ],
   "source": [
    "#2 ANALISE EXPLORATORIA INICIAL\n",
    "print(\"Tipos de Dados:\")\n",
    "print(dataset.dtypes.to_string())\n",
    "print(\"\\n\")\n",
    "print(\"Estatísticas Descritivas:\")\n",
    "print(dataset.describe().to_string())\n",
    "print(\"\\n\")\n",
    "print(\"Valores Nulos:\")\n",
    "print(dataset.isnull().sum().to_string())\n",
    "print(\"\\n\")\n",
    "print(\"Valores Únicos:\")\n",
    "print(dataset.nunique().to_string())"
   ]
  },
  {
   "cell_type": "code",
   "execution_count": 6,
   "id": "2747694f-aafa-4ac9-80c7-3d318e37ed41",
   "metadata": {
    "ExecuteTime": {
     "end_time": "2024-05-30T15:23:29.281502Z",
     "start_time": "2024-05-30T15:23:29.234653Z"
    }
   },
   "outputs": [
    {
     "name": "stdout",
     "output_type": "stream",
     "text": [
      "        date                         title          location    salary  \\\n",
      "0 2020-12-28                Data Scientist  Houston, TX, USA  140000.0   \n",
      "1 2020-12-28               Program Analyst      Desconhecido   86000.0   \n",
      "2 2020-12-28                Data Scientist      Desconhecido   85000.0   \n",
      "3 2020-12-28  Senior Software Engineer (ML      Desconhecido     240.0   \n",
      "4 2020-12-28       Data Science Consultant        London, UK   65000.0   \n",
      "\n",
      "             company_industry                           education  \\\n",
      "0                 Oil and Gas       Masters in Applied Statistics   \n",
      "1  Federal Gov't (non defense                                M.Ed   \n",
      "2                     Defense  Masters of Science in Data Science   \n",
      "3                     Fintech            B.S. Stats tier 2 school   \n",
      "4          Large Tech Company                                 PhD   \n",
      "\n",
      "                                    prior_experience         bonus  \\\n",
      "0                       2yrs of actuarial experience  Desconhecido   \n",
      "1  8 years at same agency in administrative posit...          Nope   \n",
      "2  3 years as research assistant (statistics), 2 ...  Desconhecido   \n",
      "3  1 year in finance industry, 1.5 years in small...           60k   \n",
      "4  3 years as data science consultant for another...  Desconhecido   \n",
      "\n",
      "                                              stocks  \\\n",
      "0  15-30% bonus  (no bonus this year of course du...   \n",
      "1                                       Desconhecido   \n",
      "2                                              2,000   \n",
      "3                                                60k   \n",
      "4        incentive (3 year vest)  - 23% annual bonus   \n",
      "\n",
      "                                          total_comp  additional_benefits  \\\n",
      "0  140,000I'm about to accept a new job that will...                False   \n",
      "1                                       Desconhecido                False   \n",
      "2                                             87,000                False   \n",
      "3  360kMy last job I was a data scientist with 14...                False   \n",
      "4              90,000 w/ bonus, stock &amp; benefits                False   \n",
      "\n",
      "   tenure_length_period tenure_length_period_units  survey_year  \n",
      "0                   3.0                      years         2020  \n",
      "1                   1.0                      years         2020  \n",
      "2                   1.0                      years         2020  \n",
      "3                   6.0                     months         2020  \n",
      "4                   2.0                      years         2020  \n",
      "date                          datetime64[ns]\n",
      "title                                 object\n",
      "location                              object\n",
      "salary                               float64\n",
      "company_industry                      object\n",
      "education                             object\n",
      "prior_experience                      object\n",
      "bonus                                 object\n",
      "stocks                                object\n",
      "total_comp                            object\n",
      "additional_benefits                     bool\n",
      "tenure_length_period                 float64\n",
      "tenure_length_period_units            object\n",
      "survey_year                            int64\n",
      "dtype: object\n",
      "date                           0\n",
      "title                          0\n",
      "location                       0\n",
      "salary                        91\n",
      "company_industry               0\n",
      "education                      0\n",
      "prior_experience               0\n",
      "bonus                          0\n",
      "stocks                         0\n",
      "total_comp                     0\n",
      "additional_benefits            0\n",
      "tenure_length_period           0\n",
      "tenure_length_period_units     0\n",
      "survey_year                    0\n",
      "dtype: int64\n"
     ]
    }
   ],
   "source": [
    "#3 TRATAMENTO DE DADOS\n",
    "numeric_cols = ['tenure_length_period']\n",
    "categorical_cols = ['title', 'location', 'company_industry', 'education', 'prior_experience', 'bonus', 'stocks', 'total_comp']\n",
    "dataset[numeric_cols] = dataset[numeric_cols].fillna(dataset[numeric_cols].median())\n",
    "dataset[categorical_cols] = dataset[categorical_cols].fillna('Desconhecido')\n",
    "dataset['date'] = pd.to_datetime(dataset['date'])\n",
    "dataset['salary'] = dataset['salary'].str.replace(',', '').str.extract('(\\d+)').astype(float)\n",
    "print(dataset.head())\n",
    "print(dataset.dtypes)\n",
    "print(dataset.isnull().sum())\n",
    "dataset.to_csv('clean_data.csv', index=False)\n",
    "\n",
    "\n"
   ]
  },
  {
   "cell_type": "code",
   "execution_count": 11,
   "id": "8d1388f2feada668",
   "metadata": {},
   "outputs": [
    {
     "name": "stdout",
     "output_type": "stream",
     "text": [
      "Estatísticas descritivas antes do tratamento:\n",
      "count    459.000000\n",
      "mean       3.135185\n",
      "std        2.456234\n",
      "min        0.000000\n",
      "25%        1.000000\n",
      "50%        2.000000\n",
      "75%        4.000000\n",
      "max       15.000000\n",
      "Name: tenure_length_period, dtype: float64\n",
      "\n",
      "Valores nulos antes do tratamento:\n",
      "96\n",
      "\n",
      "Estatísticas descritivas após o tratamento:\n",
      "count    555.000000\n",
      "mean       2.938829\n",
      "std        2.274274\n",
      "min        0.000000\n",
      "25%        1.500000\n",
      "50%        2.000000\n",
      "75%        4.000000\n",
      "max       15.000000\n",
      "Name: tenure_length_period, dtype: float64\n",
      "\n",
      "Valores nulos após o tratamento:\n",
      "0\n",
      "\n",
      "Valores antes do tratamento:\n",
      "Series([], Name: tenure_length_period, dtype: float64)\n",
      "\n",
      "Valores após o tratamento:\n",
      "Series([], Name: tenure_length_period, dtype: float64)\n"
     ]
    }
   ],
   "source": [
    "#4 VERIFICACAO DOS RESULTADOS\n",
    "import pandas as pd\n",
    "dataset = pd.read_csv('base.csv')\n",
    "print(\"Estatísticas descritivas antes do tratamento:\")\n",
    "print(dataset['tenure_length_period'].describe())\n",
    "print(\"\\nValores nulos antes do tratamento:\")\n",
    "print(dataset['tenure_length_period'].isnull().sum())\n",
    "numeric_cols = ['tenure_length_period']\n",
    "dataset[numeric_cols] = dataset[numeric_cols].fillna(dataset[numeric_cols].median())\n",
    "print(\"\\nEstatísticas descritivas após o tratamento:\")\n",
    "print(dataset['tenure_length_period'].describe())\n",
    "\n",
    "# Contar valores nulos após o tratamento\n",
    "print(\"\\nValores nulos após o tratamento:\")\n",
    "print(dataset['tenure_length_period'].isnull().sum())\n",
    "\n",
    "# Comparar alguns valores antes e depois do tratamento\n",
    "print(\"\\nValores antes do tratamento:\")\n",
    "print(dataset.loc[dataset['tenure_length_period'].isnull(), 'tenure_length_period'].head())\n",
    "\n",
    "print(\"\\nValores após o tratamento:\")\n",
    "print(dataset.loc[dataset['tenure_length_period'].isnull(), 'tenure_length_period'].head())\n"
   ]
  },
  {
   "cell_type": "code",
   "execution_count": 12,
   "id": "f317e6ee-4923-488a-b7d2-9eea9a785ebe",
   "metadata": {},
   "outputs": [
    {
     "data": {
      "image/png": "[encoded data removed]",
      "text/plain": [
       "<Figure size 800x600 with 1 Axes>"
      ]
     },
     "metadata": {},
     "output_type": "display_data"
    }
   ],
   "source": [
    "#5 DATAVIZ\n",
    "import pandas as pd\n",
    "import matplotlib.pyplot as plt\n",
    "\n",
    "# Carregar o dataset\n",
    "dataset = pd.read_csv('clean_data.csv')\n",
    "\n",
    "# Histograma da coluna 'tenure_length_period'\n",
    "plt.figure(figsize=(8, 6))\n",
    "plt.hist(dataset['tenure_length_period'], bins=15, color='skyblue', edgecolor='black')\n",
    "plt.title('Distribuição do Período de Permanência')\n",
    "plt.xlabel('Período de Permanência (anos)')\n",
    "plt.ylabel('Frequência')\n",
    "plt.grid(True)\n",
    "plt.show()\n"
   ]
  },
  {
   "cell_type": "code",
   "execution_count": null,
   "id": "e5a7857d-f5d0-49ce-88c2-c2baced5c603",
   "metadata": {},
   "outputs": [],
   "source": []
  }
 ],
 "metadata": {
  "kernelspec": {
   "display_name": "Python 3 (ipykernel)",
   "language": "python",
   "name": "python3"
  },
  "language_info": {
   "codemirror_mode": {
    "name": "ipython",
    "version": 3
   },
   "file_extension": ".py",
   "mimetype": "text/x-python",
   "name": "python",
   "nbconvert_exporter": "python",
   "pygments_lexer": "ipython3",
   "version": "3.10.12"
  }
 },
 "nbformat": 4,
 "nbformat_minor": 5
}
