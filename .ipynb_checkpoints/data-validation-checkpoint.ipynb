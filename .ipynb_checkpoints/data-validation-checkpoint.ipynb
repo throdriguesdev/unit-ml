{
 "cells": [
  {
   "cell_type": "code",
   "execution_count": 7,
   "id": "44b30e85-e14b-46c3-92cc-f7a5dab1dfcc",
   "metadata": {},
   "outputs": [],
   "source": [
    "import pandas as pd\n",
    "dataset = pd.read_csv('base.csv')"
   ]
  },
  {
   "cell_type": "code",
   "execution_count": 9,
   "id": "d4a7f417-47c8-4233-9ff9-e3f685c4df18",
   "metadata": {},
   "outputs": [
    {
     "name": "stdout",
     "output_type": "stream",
     "text": [
      "Tipos de Dados:\n",
      "date                           object\n",
      "title                          object\n",
      "location                       object\n",
      "salary                         object\n",
      "company_industry               object\n",
      "education                      object\n",
      "prior_experience               object\n",
      "bonus                          object\n",
      "stocks                         object\n",
      "total_comp                     object\n",
      "additional_benefits              bool\n",
      "tenure_length_period          float64\n",
      "tenure_length_period_units     object\n",
      "survey_year                     int64\n",
      "\n",
      "\n",
      "Estatísticas Descritivas:\n",
      "       tenure_length_period  survey_year\n",
      "count            459.000000   555.000000\n",
      "mean               3.135185  2021.108108\n",
      "std                2.456234     1.359227\n",
      "min                0.000000  2019.000000\n",
      "25%                1.000000  2020.000000\n",
      "50%                2.000000  2021.000000\n",
      "75%                4.000000  2022.000000\n",
      "max               15.000000  2023.000000\n",
      "\n",
      "\n",
      "Valores Nulos:\n",
      "date                            0\n",
      "title                          22\n",
      "location                      123\n",
      "salary                         91\n",
      "company_industry               92\n",
      "education                      79\n",
      "prior_experience              218\n",
      "bonus                         306\n",
      "stocks                        171\n",
      "total_comp                     61\n",
      "additional_benefits             0\n",
      "tenure_length_period           96\n",
      "tenure_length_period_units      0\n",
      "survey_year                     0\n",
      "\n",
      "\n",
      "Valores Únicos:\n",
      "date                            5\n",
      "title                         245\n",
      "location                      130\n",
      "salary                        296\n",
      "company_industry              329\n",
      "education                     394\n",
      "prior_experience              328\n",
      "bonus                         161\n",
      "stocks                        341\n",
      "total_comp                    418\n",
      "additional_benefits             2\n",
      "tenure_length_period           27\n",
      "tenure_length_period_units      3\n",
      "survey_year                     5\n"
     ]
    }
   ],
   "source": [
    "dataset = pd.read_csv('base.csv')\n",
    "print(\"Tipos de Dados:\")\n",
    "print(dataset.dtypes.to_string())\n",
    "print(\"\\n\")\n",
    "print(\"Estatísticas Descritivas:\")\n",
    "print(dataset.describe().to_string())\n",
    "print(\"\\n\")\n",
    "print(\"Valores Nulos:\")\n",
    "print(dataset.isnull().sum().to_string())\n",
    "print(\"\\n\")\n",
    "print(\"Valores Únicos:\")\n",
    "print(dataset.nunique().to_string())"
   ]
  },
  {
   "cell_type": "code",
   "execution_count": null,
   "id": "2747694f-aafa-4ac9-80c7-3d318e37ed41",
   "metadata": {},
   "outputs": [],
   "source": []
  }
 ],
 "metadata": {
  "kernelspec": {
   "display_name": "Python 3 (ipykernel)",
   "language": "python",
   "name": "python3"
  },
  "language_info": {
   "codemirror_mode": {
    "name": "ipython",
    "version": 3
   },
   "file_extension": ".py",
   "mimetype": "text/x-python",
   "name": "python",
   "nbconvert_exporter": "python",
   "pygments_lexer": "ipython3",
   "version": "3.10.12"
  }
 },
 "nbformat": 4,
 "nbformat_minor": 5
}
