{
 "cells": [
  {
   "cell_type": "code",
   "execution_count": 2,
   "id": "44b30e85-e14b-46c3-92cc-f7a5dab1dfcc",
   "metadata": {
    "ExecuteTime": {
     "end_time": "2024-05-30T14:52:24.177126Z",
     "start_time": "2024-05-30T14:52:23.694410Z"
    }
   },
   "outputs": [
    {
     "name": "stdout",
     "output_type": "stream",
     "text": [
      "         date                         title          location   salary  \\\n",
      "0  2020-12-28                Data Scientist  Houston, TX, USA  140,000   \n",
      "1  2020-12-28               Program Analyst               NaN    86000   \n",
      "2  2020-12-28                Data Scientist               NaN   85,000   \n",
      "3  2020-12-28  Senior Software Engineer (ML               NaN     240k   \n",
      "4  2020-12-28       Data Science Consultant        London, UK   65,000   \n",
      "\n",
      "             company_industry                           education  \\\n",
      "0                 Oil and Gas       Masters in Applied Statistics   \n",
      "1  Federal Gov't (non defense                                M.Ed   \n",
      "2                     Defense  Masters of Science in Data Science   \n",
      "3                     Fintech            B.S. Stats tier 2 school   \n",
      "4          Large Tech Company                                 PhD   \n",
      "\n",
      "                                    prior_experience bonus  \\\n",
      "0                       2yrs of actuarial experience   NaN   \n",
      "1  8 years at same agency in administrative posit...  Nope   \n",
      "2  3 years as research assistant (statistics), 2 ...   NaN   \n",
      "3  1 year in finance industry, 1.5 years in small...   60k   \n",
      "4  3 years as data science consultant for another...   NaN   \n",
      "\n",
      "                                              stocks  \\\n",
      "0  15-30% bonus  (no bonus this year of course du...   \n",
      "1                                                NaN   \n",
      "2                                              2,000   \n",
      "3                                                60k   \n",
      "4        incentive (3 year vest)  - 23% annual bonus   \n",
      "\n",
      "                                          total_comp  additional_benefits  \\\n",
      "0  140,000I'm about to accept a new job that will...                False   \n",
      "1                                                NaN                False   \n",
      "2                                             87,000                False   \n",
      "3  360kMy last job I was a data scientist with 14...                False   \n",
      "4              90,000 w/ bonus, stock &amp; benefits                False   \n",
      "\n",
      "   tenure_length_period tenure_length_period_units  survey_year  \n",
      "0                   3.0                      years         2020  \n",
      "1                   1.0                      years         2020  \n",
      "2                   1.0                      years         2020  \n",
      "3                   6.0                     months         2020  \n",
      "4                   2.0                      years         2020  \n",
      "date                           object\n",
      "title                          object\n",
      "location                       object\n",
      "salary                         object\n",
      "company_industry               object\n",
      "education                      object\n",
      "prior_experience               object\n",
      "bonus                          object\n",
      "stocks                         object\n",
      "total_comp                     object\n",
      "additional_benefits              bool\n",
      "tenure_length_period          float64\n",
      "tenure_length_period_units     object\n",
      "survey_year                     int64\n",
      "dtype: object\n"
     ]
    }
   ],
   "source": [
    "import pandas as pd\n",
    "dataset = pd.read_csv('base.csv')\n",
    "print(dataset.head())\n",
    "print(dataset.dtypes)"
   ]
  },
  {
   "cell_type": "code",
   "execution_count": null,
   "id": "d8886ed4-241a-415f-9c3e-10a3f286a915",
   "metadata": {},
   "outputs": [],
   "source": []
  }
 ],
 "metadata": {
  "kernelspec": {
   "display_name": "Python 3 (ipykernel)",
   "language": "python",
   "name": "python3"
  },
  "language_info": {
   "codemirror_mode": {
    "name": "ipython",
    "version": 3
   },
   "file_extension": ".py",
   "mimetype": "text/x-python",
   "name": "python",
   "nbconvert_exporter": "python",
   "pygments_lexer": "ipython3",
   "version": "3.10.12"
  }
 },
 "nbformat": 4,
 "nbformat_minor": 5
}
